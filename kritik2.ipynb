{
 "cells": [
  {
   "cell_type": "code",
   "execution_count": null,
   "id": "17accaa5-be2c-4dc0-8cba-8559e62c7341",
   "metadata": {},
   "outputs": [],
   "source": [
    "import numpy as np\n",
    "def roots (f,a,b,):\n",
    "    thresh= 1e-10\n",
    "    max_loop= 1000\n",
    "    if f(a) == 0:\n",
    "        return a\n",
    "    elif f(b)== 0:\n",
    "           return b\n",
    "    elif f(a)*f(b)> 0:\n",
    "          return (\"root does not exist\")\n",
    "\n",
    "    kritik=0\n",
    "    while (b-a)/2 > thresh and kritik < max_loop:\n",
    "        c= (a+b) / 2\n",
    "        if f(c) == 0: \n",
    "            return c\n",
    "        elif (b-a) / 2 < thresh:\n",
    "            return c\n",
    "\n",
    "    kritik += 1\n",
    "    if f(a) * f(c)<0:\n",
    "        b=c\n",
    "    else: a=c\n",
    "    return (a+b)/2\n",
    "\n",
    "#test\n",
    "def k(x):\n",
    "    return np.exp(x) + np.log(x)\n",
    "\n",
    "\n",
    "def h(x):\n",
    "    return np.arctan(x) - x**2\n",
    "\n",
    "\n",
    "def i(x):\n",
    "    return np.sin(x)/np.log(x)\n",
    "    \n",
    "root_i= roots(i, 3, 4)\n",
    "\n",
    "def j(x):\n",
    "    return np.log(np.cos(x))\n",
    "    \n",
    "root_h= roots(h, 0, 2)\n",
    "root_k= roots(k, 0.1, 1)\n",
    "root_j= roots(j, 5, 7)\n",
    "\n",
    "#answer\n",
    "print(\"Root of k on [0.1, 1]:\", root_k)\n",
    "print(\"Root of h on [0, 2]:\", root_h)\n",
    "print(\"Root of i on [3, 4]:\", root_i)\n",
    "print(\"Root of j on [0, 1]:\", root_j)\n"
   ]
  },
  {
   "cell_type": "code",
   "execution_count": null,
   "id": "67ed06f5-fe33-4a51-86d4-33fa1d926649",
   "metadata": {},
   "outputs": [],
   "source": []
  },
  {
   "cell_type": "code",
   "execution_count": null,
   "id": "dc2e95be-3459-40f6-a9dc-d170af01310c",
   "metadata": {},
   "outputs": [],
   "source": []
  },
  {
   "cell_type": "code",
   "execution_count": null,
   "id": "403c7705-d66a-4f83-afde-fb76e3b71628",
   "metadata": {},
   "outputs": [],
   "source": []
  }
 ],
 "metadata": {
  "kernelspec": {
   "display_name": "Python 3 (ipykernel)",
   "language": "python",
   "name": "python3"
  },
  "language_info": {
   "codemirror_mode": {
    "name": "ipython",
    "version": 3
   },
   "file_extension": ".py",
   "mimetype": "text/x-python",
   "name": "python",
   "nbconvert_exporter": "python",
   "pygments_lexer": "ipython3",
   "version": "3.11.9"
  }
 },
 "nbformat": 4,
 "nbformat_minor": 5
}
