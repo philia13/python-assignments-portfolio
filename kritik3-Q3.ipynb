{
 "cells": [
  {
   "cell_type": "code",
   "execution_count": 7,
   "id": "a2f6aaa3-c48e-4541-b6b7-57865bb1d2d3",
   "metadata": {},
   "outputs": [
    {
     "name": "stdout",
     "output_type": "stream",
     "text": [
      "(0.9499999998349044, 1.0500000001650958)\n",
      "(0.7146874855838188, 0.8561088412110778)\n",
      "(-0.10000000060774711, 0.10000000060774711)\n"
     ]
    }
   ],
   "source": [
    "import time\n",
    "import numpy as np\n",
    "time_1 = time.time()\n",
    "def quadratic_fun(x):\n",
    "    return x**2\n",
    "def sin_func(x):\n",
    "    return np.sin(x)\n",
    "def exp_func(x):\n",
    "    return np.exp(x)\n",
    "def linear_approx(function, point, range_error):\n",
    "    h=1e-8\n",
    "    dx = (function(point + h) - function(point - h))/(2*h)\n",
    "    modification = range_error / abs(dx)\n",
    "    left_limit= point - modification\n",
    "    right_limit= point + modification\n",
    "    while abs (function(left_limit) - function(point) - (dx * (left_limit - point))) > range_error:\n",
    "        left_limit -= h\n",
    "    while abs (function(right_limit) - function(point) - (dx * (right_limit - point))) > range_error:\n",
    "        right_limit += h\n",
    "\n",
    "    return float (left_limit) , float (right_limit)\n",
    "print(linear_approx(quadratic_fun, 1, 0.1))\n",
    "print(linear_approx(sin_func, np.pi / 4, 0.05))\n",
    "print(linear_approx(exp_func, 0, 0.1))\n",
    "print(\"--- %s seconds ---\" % (time.time() - ti"
   ]
  },
  {
   "cell_type": "code",
   "execution_count": null,
   "id": "801d0e5c-ab1c-4ac4-8d75-adc0fbf99b95",
   "metadata": {},
   "outputs": [],
   "source": []
  },
  {
   "cell_type": "code",
   "execution_count": null,
   "id": "e47083d0-c7c8-4e6d-b213-7f2fb877c3d4",
   "metadata": {},
   "outputs": [],
   "source": []
  }
 ],
 "metadata": {
  "kernelspec": {
   "display_name": "Python 3 (ipykernel)",
   "language": "python",
   "name": "python3"
  },
  "language_info": {
   "codemirror_mode": {
    "name": "ipython",
    "version": 3
   },
   "file_extension": ".py",
   "mimetype": "text/x-python",
   "name": "python",
   "nbconvert_exporter": "python",
   "pygments_lexer": "ipython3",
   "version": "3.11.9"
  }
 },
 "nbformat": 4,
 "nbformat_minor": 5
}
