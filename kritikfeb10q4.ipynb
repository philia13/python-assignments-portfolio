{
 "cells": [
  {
   "cell_type": "code",
   "execution_count": 3,
   "id": "8c78ec6e-fb8c-4e79-9435-f87fa537dedb",
   "metadata": {},
   "outputs": [
    {
     "name": "stdout",
     "output_type": "stream",
     "text": [
      "Estimated average dosage: 63247.83652736027\n"
     ]
    }
   ],
   "source": [
    "import numpy as np\n",
    "import matplotlib.pyplot as plt  # needed to plot\n",
    "\n",
    "# Define variables\n",
    "avg = 171  \n",
    "h_variation = 7.1 ** 2 \n",
    "a = 162   \n",
    "b = 190 \n",
    "\n",
    "# Define the normal density function\n",
    "def normal_density(avg, h_variation, x):\n",
    "    return (1 / (np.sqrt(2 * np.pi * variation))) * np.exp(-((x - avg) ** 2) / (2 * variation))\n",
    "\n",
    "# Define the integration function\n",
    "def integration(avg, variation, a, b, n=1000000):\n",
    "    w = (b - a) / n  \n",
    "    midpoints = np.linspace(a + w / 2, b - w / 2, n)  \n",
    "    y = normal_density(avg, variation, midpoints)  \n",
    "    integral = np.sum(y * w)  \n",
    "    return integral\n",
    "\n",
    "# Define the average dosage function\n",
    "def average_dosage(avg, variantion, a, b, n=1000000):\n",
    "    dosage = lambda x: 2.38 * x ** 2  # D(x) = 2.38 * x^2\n",
    "    w = (b - a) / n  # Step size\n",
    "    midpoints = np.linspace(a + w / 2, b - w / 2, n)  # Midpoints for integration\n",
    "    y = normal_density(avg, variation, midpoints)  # Evaluate density function at midpoints\n",
    "    dosage_values = dosage(midpoints)  # Compute dosage values\n",
    "    expected_dosage = np.sum(dosage_values * y * w)  # Compute expected dosage\n",
    "    return expected_dosage\n",
    "\n",
    "# Compute and print the expected dosage\n",
    "expected_dosage = average_dosage(avg, variation, a, b)\n",
    "print(\"Estimated average dosage:\", expected_dosage)\n"
   ]
  },
  {
   "cell_type": "code",
   "execution_count": null,
   "id": "dd1efa97-cc14-411d-8d4f-0736667859a9",
   "metadata": {},
   "outputs": [],
   "source": []
  }
 ],
 "metadata": {
  "kernelspec": {
   "display_name": "Python 3 (ipykernel)",
   "language": "python",
   "name": "python3"
  },
  "language_info": {
   "codemirror_mode": {
    "name": "ipython",
    "version": 3
   },
   "file_extension": ".py",
   "mimetype": "text/x-python",
   "name": "python",
   "nbconvert_exporter": "python",
   "pygments_lexer": "ipython3",
   "version": "3.12.8"
  }
 },
 "nbformat": 4,
 "nbformat_minor": 5
}
