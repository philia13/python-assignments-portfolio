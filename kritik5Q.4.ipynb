{
 "cells": [
  {
   "cell_type": "code",
   "execution_count": 14,
   "id": "69f71a6a-6edb-4b0f-a949-2d7e1a784b82",
   "metadata": {},
   "outputs": [
    {
     "ename": "IndentationError",
     "evalue": "unindent does not match any outer indentation level (<string>, line 49)",
     "output_type": "error",
     "traceback": [
      "\u001b[0;36m  File \u001b[0;32m<string>:49\u001b[0;36m\u001b[0m\n\u001b[0;31m    if num_steps > 0:\u001b[0m\n\u001b[0m                     ^\u001b[0m\n\u001b[0;31mIndentationError\u001b[0m\u001b[0;31m:\u001b[0m unindent does not match any outer indentation level\n"
     ]
    }
   ],
   "source": [
    "import matplotlib.pyplot as plt\n",
    "import random\n",
    "\n",
    "# TODO: Implement the Chaos Game algorithm\n",
    "# 1. Initialize a random seed point within the triangle\n",
    "# 2. Roll the die and move the point half the distance to the chosen vertex.\n",
    "# 3. Repeat and collect the points in a list\n",
    "#(Remember to start plotting points after a dozen rolls)\n",
    "#Initialize the vertices of the triangle and the plot \n",
    "# Vertices of an equilateral triangle\n",
    "vertices = [(0, 0), (1, 0), (0.5, 0.866)]\n",
    "\n",
    "# A function to check whether point (x, y)\n",
    "# lies inside the triangle formed by\n",
    "# A0, 0), (1, 0) and (0.5, 0.866)\n",
    "\n",
    "def isInside(x1, y1, x2, y2, x3, y3, x, y): \n",
    "        def area(x1, y1, x2, y2, x3, y3):\n",
    "            return abs((x1*(y2 - y3) + x2*(y3 - y1) + x3*(y1 - y2)) / 2.0)\n",
    "A = area(x1, y1, x2, y2, x3, y3)\n",
    "A1 = area(x, y, x2, y2, x3, y3)\n",
    "A2 = area(x1, y1, x, y, x3, y3)\n",
    "A3 = area(x1, y1, x2, y2, x, y)\n",
    "return A == A1 + A2 + A3\n",
    "\n",
    "# Prompting the user for a seed point\n",
    "while True: \n",
    "        try:\n",
    "            seed_x = float(input(\"Enter the x-coordinate of the seed point: \")) \n",
    "            seed_y = float(input(\"Enter the y-coordinate of the seed point: \")) \n",
    "                if isInside(0, 0, 1, 0, 0.5, 0.866, seed_x, seed_y):\n",
    "                    print(\"Valid seed point entered.\")\n",
    "                    break \n",
    "        else:\n",
    "            print(\"The point is not inside the triangle. Please try again.\") \n",
    "        except ValueError:\n",
    "            print(\"Invalid input. Please enter numerical values.\") \n",
    "\n",
    "#This is your starting point\n",
    "seed=(seed_x, seed_y)\n",
    "\n",
    "#Initialize a list where you will store your points (x_t,y_t), # starting with your seed\n",
    "points = [seed]\n",
    "\n",
    "# Prompting the user for the number of steps\n",
    "while True:\n",
    "    try:\n",
    "    num_steps = int(input(\"Enter the number of steps: \")) \n",
    " if num_steps > 0:\n",
    "        print(f\"Number of steps set to {num_steps}.\")\n",
    "        break \n",
    "    else:\n",
    "        print(\"Please enter a positive integer.\") \n",
    "except ValueError:\n",
    "        print(\"Invalid input. Please enter a positive integer.\")\n",
    "\n",
    "for i in range(num_steps):\n",
    "#choose a random vertex to move toward from the list 'vertices'\n",
    "# You can use the python code random.randint(0, 2) to\n",
    "# choose a random integer between 0 and 2. Then you can use\n",
    "#that random integer as the index for a vertex.\n",
    "# your code should look like \"next_vertex = vertex[ a random choice of index]\" next_vertex=....\n",
    "\n",
    "next_vtx= vtcs[random.randint(0,2)]\n",
    "\n",
    "#create the next point by moving from the last point, i.e. points[-1], to\n",
    "#the midpoint of the line formed by that point and the random vertex\n",
    "#you just chose.\n",
    "# You may have to look up the formula for the midpoint of a line in the plane.\n",
    "#add the new point to your list of points\n",
    "next_pt = ((points[-1][0] + next_vtx[0]/2, (points[-1][1] + next_vtx[1]/2)\n",
    "               \n",
    "    points.append(next_pt)\n",
    "# Function to plot the solution set\n",
    "def plot_solution(points):\n",
    "plt.scatter([p[0] for p in points], [p[1] for p in points], s=0.1) plt.show()\n",
    "#plot your points\n",
    "plot_solution(points)"
   ]
  },
  {
   "cell_type": "code",
   "execution_count": null,
   "id": "3a69095a-d86d-4480-8e77-118a65ecb111",
   "metadata": {},
   "outputs": [],
   "source": []
  },
  {
   "cell_type": "code",
   "execution_count": null,
   "id": "35248743-e1a6-4e9c-a7dc-4b0c917d7030",
   "metadata": {},
   "outputs": [],
   "source": []
  },
  {
   "cell_type": "code",
   "execution_count": null,
   "id": "b5339be9-c4c0-4f98-808d-383e3ffc1b95",
   "metadata": {},
   "outputs": [],
   "source": []
  },
  {
   "cell_type": "code",
   "execution_count": null,
   "id": "18717ac6-5e6b-46a4-bf7b-c4ad0ebca2cb",
   "metadata": {},
   "outputs": [],
   "source": []
  }
 ],
 "metadata": {
  "kernelspec": {
   "display_name": "Python 3 (ipykernel)",
   "language": "python",
   "name": "python3"
  },
  "language_info": {
   "codemirror_mode": {
    "name": "ipython",
    "version": 3
   },
   "file_extension": ".py",
   "mimetype": "text/x-python",
   "name": "python",
   "nbconvert_exporter": "python",
   "pygments_lexer": "ipython3",
   "version": "3.12.8"
  }
 },
 "nbformat": 4,
 "nbformat_minor": 5
}
