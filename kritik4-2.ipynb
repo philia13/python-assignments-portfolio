{
 "cells": [
  {
   "cell_type": "code",
   "execution_count": 8,
   "id": "ab14aabd-b41c-441b-a009-3ee14679ca56",
   "metadata": {},
   "outputs": [
    {
     "ename": "SyntaxError",
     "evalue": "invalid character '₽' (U+20BD) (1118044632.py, line 10)",
     "output_type": "error",
     "traceback": [
      "\u001b[0;36m  Cell \u001b[0;32mIn[8], line 10\u001b[0;36m\u001b[0m\n\u001b[0;31m    1 ₽\u001b[0m\n\u001b[0m      ^\u001b[0m\n\u001b[0;31mSyntaxError\u001b[0m\u001b[0;31m:\u001b[0m invalid character '₽' (U+20BD)\n"
     ]
    }
   ],
   "source": [
    "import matplotlib.pyplot as plt\n",
    "import numpy as np\n",
    "\n",
    "def gradient_descent(f, learning_rate, initial_point):\n",
    "def derivlf,\n",
    "(base_point): *\n",
    "return (f(base_point) + 10**-10) - f(base_point) - 10**-10 / (2 * 10**-10)\n",
    "x_cds = [initial_point] * This list stores the x_n values\n",
    "y_cds = [f(initial_point)] \n",
    "1 ₽\n",
    "while np.abs(deriv(f, x_coords[1))) > le-10:\n",
    "\n",
    "x1 = x_cds[1] - learning_rate * derivf, x_coords[1]) # Gradient descent step\n",
    "x_cds. append (x1)\n",
    "y_cds.append(f(x1))\n",
    "\n",
    "ptrange = np. Linspace(\n",
    "min(x_cds) - 0.5, max(x_coords) * 0.5,\n",
    "\n",
    "fx_range = [f(1) for 1 in plot_range]\n",
    "\n",
    "pit.plot(plot_range, function_penge, label=\"f(x)\")\n",
    "# Plot f(x)\n",
    "plt.plot(x_cds, y-cds, markers\"o\", Labels\"GD Path\")\n",
    "pit, legend)\n",
    "\n",
    "plt, title(\"Gradient Descent\") pit,xLabel(\"*\")\n",
    "BLt, yLabel(\"f(x)*)\n",
    "pit. gridC)\n",
    "plt, showC)"
   ]
  },
  {
   "cell_type": "code",
   "execution_count": null,
   "id": "89687b6b-bc85-4b71-8173-ca743779fbe2",
   "metadata": {},
   "outputs": [],
   "source": []
  }
 ],
 "metadata": {
  "kernelspec": {
   "display_name": "Python 3 (ipykernel)",
   "language": "python",
   "name": "python3"
  },
  "language_info": {
   "codemirror_mode": {
    "name": "ipython",
    "version": 3
   },
   "file_extension": ".py",
   "mimetype": "text/x-python",
   "name": "python",
   "nbconvert_exporter": "python",
   "pygments_lexer": "ipython3",
   "version": "3.11.9"
  }
 },
 "nbformat": 4,
 "nbformat_minor": 5
}
