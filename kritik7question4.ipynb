{
 "cells": [
  {
   "cell_type": "code",
   "execution_count": 10,
   "id": "e6416914-2b9a-4c04-9cec-481da36a07c8",
   "metadata": {},
   "outputs": [
    {
     "ename": "IndentationError",
     "evalue": "expected an indented block after function definition on line 32 (3195873589.py, line 33)",
     "output_type": "error",
     "traceback": [
      "\u001b[0;36m  Cell \u001b[0;32mIn[10], line 33\u001b[0;36m\u001b[0m\n\u001b[0;31m    \"\"\"\u001b[0m\n\u001b[0m    ^\u001b[0m\n\u001b[0;31mIndentationError\u001b[0m\u001b[0;31m:\u001b[0m expected an indented block after function definition on line 32\n"
     ]
    }
   ],
   "source": [
    "import numpy as np\n",
    "from scipy.special import gamma\n",
    "\n",
    "def t_distribution_pdf(x, nu):\n",
    "    pass  # Placeholder to avoid IndentationError\n",
    "\n",
    "#i)calculating standard deviation\n",
    "scores = [92.64,79.00,84.79,97.41,93.68,65.23,84.50,73.49,73.97,79.11]\n",
    "n= len(scores)\n",
    "\n",
    "average= (sum(scores))/n\n",
    "print(average)\n",
    "\n",
    "#calculating variances\n",
    "\n",
    "diffs= [(x-average)**2 for x in scores]\n",
    "\n",
    "variance= sum(diffs)/ len(scores)\n",
    "\n",
    "stdv = variance ** 0.5\n",
    "\n",
    "print (\"average:\", average)\n",
    "print (\"standard deviation:\", stdv)\n",
    "\n",
    "#ii)Write a function that takes the output of the previous function and computes a value of t0.\n",
    "t_0= (average - 75)/ (stdv/ (n**0.5))\n",
    "print (\"t_0:\", t_0)\n",
    "\n",
    "#iii) \n",
    "\n",
    "nu = n - 1\n",
    "def find_t_star(prob, nu, x_start=0, x_end=20, num_points=10000):\n",
    "\"\"\"\n",
    "Find the t-value t* for a given cumulative probability and degrees of freedom.\n",
    "\n",
    "Parameters:\n",
    "prob (float): The cumulative probability (between 0 and 1).\n",
    "\n",
    "nu (int): The degrees of freedom of the t-distribution.\n",
    "x_start (float): The start point for numerical integration.\n",
    "\n",
    "x_end (float): The end point for numerical integration.\n",
    "20 will almost always be big enough.\n",
    "\n",
    "num_points (int): The number of points to use in the numerical integration.\n",
    "\n",
    "Returns:\n",
    "float: The t-value t* such that the area between [-t*, t*]\n",
    "equals the given probability.\n",
    "\"\"\"\n",
    "\n",
    "x = np.linspace(x_start, x_end, num_points)\n",
    "# Apply the density function to the x values\n",
    "y = t_distribution_pdf(x, nu)\n",
    "# This next line is the integration (exercise: why does this work?)\n",
    "cdf = np.cumsum(y) * (x[1] - x[0])\n",
    "\n",
    "# Find the t-value where the cumulative probability reaches half of the\n",
    "required probability\n",
    "target_half_prob = prob / 2\n",
    "index = np.where(cdf >= target_half_prob)[0][0]\n",
    "return x[index]\n",
    "\n",
    "#iv)\n",
    "t_star = 2.045 \n",
    "t_0 = 1.5  \n",
    "\n",
    "# Function to check if t_0 is in the range [-t_star, t_star]\n",
    "def check_t_in_range(t_star, t_0):\n",
    "    if abs(t_0) <= t_star:\n",
    "        return True \n",
    "    else:\n",
    "        return False  \n",
    "\n",
    "result = check_t_in_range(t_star, t_0)\n",
    "\n",
    "print(result)"
   ]
  },
  {
   "cell_type": "code",
   "execution_count": null,
   "id": "b043a2d6-d1f1-4e2e-a324-b9688f6d5268",
   "metadata": {},
   "outputs": [],
   "source": []
  }
 ],
 "metadata": {
  "kernelspec": {
   "display_name": "Python 3 (ipykernel)",
   "language": "python",
   "name": "python3"
  },
  "language_info": {
   "codemirror_mode": {
    "name": "ipython",
    "version": 3
   },
   "file_extension": ".py",
   "mimetype": "text/x-python",
   "name": "python",
   "nbconvert_exporter": "python",
   "pygments_lexer": "ipython3",
   "version": "3.12.8"
  }
 },
 "nbformat": 4,
 "nbformat_minor": 5
}
